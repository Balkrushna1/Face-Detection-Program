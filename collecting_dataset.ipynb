{
 "cells": [
  {
   "cell_type": "code",
   "execution_count": 1,
   "metadata": {},
   "outputs": [
    {
     "name": "stdout",
     "output_type": "stream",
     "text": [
      "Enter roll.no of student you want to add :hi\n",
      "Sample collected !!!!\n"
     ]
    }
   ],
   "source": [
    "import numpy as np\n",
    "import cv2\n",
    "import imutils\n",
    "import os\n",
    "\n",
    "\n",
    "new_student=input(\"Enter roll.no of student you want to add :\")\n",
    "base_dir=os.path.dirname(os.path.abspath('__file__'))\n",
    "image_dir=os.path.join(base_dir,'images')\n",
    "std_dir=os.path.join(image_dir,new_student)\n",
    "os.mkdir(std_dir)\n",
    "capture=cv2.VideoCapture(0)\n",
    "count=0\n",
    "net = cv2.dnn.readNetFromCaffe(\"deploy.prototxt.txt\", \"res10_300x300_ssd_iter_140000.caffemodel\")\n",
    "\n",
    "while(True):\n",
    "    _,frame=capture.read()\n",
    "    frame = imutils.resize(frame, width=720) \n",
    "    (h, w) = frame.shape[:2]\n",
    "    blob = cv2.dnn.blobFromImage(cv2.resize(frame, (300, 300)), 1.0,(300, 300), (104.0, 177.0, 123.0))\n",
    "    net.setInput(blob)\n",
    "    detected_faces = net.forward()\n",
    "    \n",
    "    if detected_faces is not None:\n",
    "        count+=1\n",
    "        for i in range(0, detected_faces.shape[2]):\n",
    "                \n",
    "            confidence = detected_faces[0, 0, i, 2]\n",
    "\n",
    "            if confidence < 0.6:\n",
    "                continue\n",
    "            \n",
    "            file_name=str(count)+'.jpg'\n",
    "            file_name_path=os.path.join(std_dir,file_name)\n",
    "            cv2.imwrite(file_name_path,frame)\n",
    "            \n",
    "            cv2.putText(frame,str(confidence),(50,50),cv2.FONT_HERSHEY_COMPLEX,1,(0,255,0),2)  \n",
    "            cv2.imshow('Face Cropper',frame)\n",
    "    \n",
    "    else:\n",
    "        print(\"Face not Found\")\n",
    "    \n",
    "    if cv2.waitKey(1)==13 or count==100:\n",
    "        break\n",
    "        \n",
    "capture.release()\n",
    "cv2.destroyAllWindows()\n",
    "print(\"Sample collected !!!!\")"
   ]
  },
  {
   "cell_type": "code",
   "execution_count": null,
   "metadata": {},
   "outputs": [],
   "source": []
  }
 ],
 "metadata": {
  "kernelspec": {
   "display_name": "Python 3",
   "language": "python",
   "name": "python3"
  },
  "language_info": {
   "codemirror_mode": {
    "name": "ipython",
    "version": 3
   },
   "file_extension": ".py",
   "mimetype": "text/x-python",
   "name": "python",
   "nbconvert_exporter": "python",
   "pygments_lexer": "ipython3",
   "version": "3.7.6"
  }
 },
 "nbformat": 4,
 "nbformat_minor": 2
}
