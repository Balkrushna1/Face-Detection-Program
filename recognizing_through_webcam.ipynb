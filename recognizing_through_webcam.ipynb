{
 "cells": [
  {
   "cell_type": "code",
   "execution_count": 1,
   "metadata": {},
   "outputs": [
    {
     "name": "stdout",
     "output_type": "stream",
     "text": [
      "present student are :\n",
      "['madhuri']\n"
     ]
    }
   ],
   "source": [
    "import numpy as np\n",
    "import pickle\n",
    "import cv2\n",
    "import os\n",
    "import imutils\n",
    "\n",
    "detector = cv2.dnn.readNetFromCaffe(\"deploy.prototxt.txt\",\"res10_300x300_ssd_iter_140000.caffemodel\")\n",
    "embedder = cv2.dnn.readNetFromTorch(\"openface_nn4.small2.v1.t7\")\n",
    "recognizer = pickle.loads(open(\"recognizer.pickle\", \"rb\").read())\n",
    "le = pickle.loads(open(\"le.pickle\", \"rb\").read())\n",
    "\n",
    " \n",
    "capture=cv2.VideoCapture(0)\n",
    "present=[]\n",
    "dic={}\n",
    "while(True):\n",
    "    _,frame=capture.read()\n",
    "    frame = imutils.resize(frame, width=600)\n",
    "    (h, w) = frame.shape[:2]\n",
    "\n",
    "    imageBlob = cv2.dnn.blobFromImage(cv2.resize(frame, (300, 300)), 1.0, (300, 300),(104.0, 177.0, 123.0), swapRB=False, crop=False)\n",
    "\n",
    "    detector.setInput(imageBlob)\n",
    "    detected_faces = detector.forward()\n",
    "    \n",
    "    for i in range(0, detected_faces.shape[2]):\n",
    "        confidence = detected_faces[0, 0, i, 2]\n",
    "        if confidence > 0.6:\n",
    "            box = detected_faces[0, 0, i, 3:7] * np.array([w, h, w, h])\n",
    "            (startX, startY, endX, endY) = box.astype(\"int\")\n",
    "            face = frame[startY:endY, startX:endX]\n",
    "            (fH, fW) = face.shape[:2]\n",
    "            \n",
    "            if fW < 20 or fH < 20:\n",
    "                continue\n",
    "\n",
    "            faceBlob = cv2.dnn.blobFromImage(face, 1.0 / 255,(96, 96), (0, 0, 0), swapRB=True, crop=False)\n",
    "            embedder.setInput(faceBlob)\n",
    "            vec = embedder.forward()\n",
    "\n",
    "            preds = recognizer.predict_proba(vec)[0]\n",
    "            j = np.argmax(preds)\n",
    "            proba = preds[j]\n",
    "            name = le.classes_[j]\n",
    "            \n",
    "            if name in dic:\n",
    "                dic[name]+=1\n",
    "            else:\n",
    "                dic[name]=1\n",
    "\n",
    "            text = \"{}: {:.2f}%\".format(name, proba * 100)\n",
    "            y = startY - 10 if startY - 10 > 10 else startY + 10\n",
    "            cv2.rectangle(frame, (startX, startY), (endX, endY),(0, 0, 255), 2)\n",
    "            cv2.putText(frame, text, (startX, y),cv2.FONT_HERSHEY_SIMPLEX, 0.45, (0, 0, 255), 2)\n",
    "\n",
    "        \n",
    "    cv2.imshow('Recognizing faces',frame)\n",
    "    if cv2.waitKey(1)==13:\n",
    "        break\n",
    "\n",
    "for roll_no in dic:\n",
    "    if(dic[roll_no]>=100):\n",
    "        present.append(roll_no)\n",
    "        \n",
    "if \"unknown\" in present: \n",
    "    present.remove(\"unknown\")\n",
    "print(\"present student are :\")\n",
    "print(present)       \n",
    "capture.release()\n",
    "cv2.destroyAllWindows()\n",
    "capture.release()\n",
    "cv2.destroyAllWindows()"
   ]
  },
  {
   "cell_type": "code",
   "execution_count": null,
   "metadata": {},
   "outputs": [],
   "source": []
  },
  {
   "cell_type": "code",
   "execution_count": null,
   "metadata": {},
   "outputs": [],
   "source": []
  }
 ],
 "metadata": {
  "kernelspec": {
   "display_name": "Python 3",
   "language": "python",
   "name": "python3"
  },
  "language_info": {
   "codemirror_mode": {
    "name": "ipython",
    "version": 3
   },
   "file_extension": ".py",
   "mimetype": "text/x-python",
   "name": "python",
   "nbconvert_exporter": "python",
   "pygments_lexer": "ipython3",
   "version": "3.7.6"
  }
 },
 "nbformat": 4,
 "nbformat_minor": 2
}
